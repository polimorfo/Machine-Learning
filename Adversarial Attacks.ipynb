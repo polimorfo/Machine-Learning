{
 "cells": [
  {
   "cell_type": "code",
   "execution_count": 1,
   "metadata": {},
   "outputs": [],
   "source": [
    "## Adversarial Atatck --> hacking a NN https://www.youtube.com/watch?v=JoQx39CoXW8"
   ]
  },
  {
   "cell_type": "code",
   "execution_count": 2,
   "metadata": {},
   "outputs": [
    {
     "name": "stderr",
     "output_type": "stream",
     "text": [
      "Using TensorFlow backend.\n"
     ]
    }
   ],
   "source": [
    "import tensorflow as tf\n",
    "import keras\n",
    "\n",
    "import matplotlib.pyplot as plt\n",
    "import numpy as np"
   ]
  },
  {
   "cell_type": "code",
   "execution_count": 3,
   "metadata": {},
   "outputs": [],
   "source": [
    "from keras.applications.inception_v3 import InceptionV3, decode_predictions # load model\n",
    "#decode_predictions mapea las probabilidades con el nombre real de las clases\n",
    "from keras import backend as k "
   ]
  },
  {
   "cell_type": "code",
   "execution_count": 4,
   "metadata": {},
   "outputs": [],
   "source": [
    "iv3 = InceptionV3() # load model into a variable"
   ]
  },
  {
   "cell_type": "code",
   "execution_count": 5,
   "metadata": {},
   "outputs": [],
   "source": [
    "#print (iv3.summary()) # model architecture summ_up"
   ]
  },
  {
   "cell_type": "code",
   "execution_count": 6,
   "metadata": {},
   "outputs": [],
   "source": [
    "# lets check if our model works with one of our images\n",
    "from keras.preprocessing import image\n",
    "# 'img_to_array' takes the image directly and transforms it into an array.\n",
    "#para meter la imagen dentro de inceptionV3 nos hace falta que tenga unas \n",
    "#dimensiones de 299X299 pixeles(con target size despues del nombre de la imagen)\n",
    "x= image.img_to_array(image.load_img(\"./wtf.jpg\" ,target_size=(299,299)))\n",
    "#print(x)"
   ]
  },
  {
   "cell_type": "code",
   "execution_count": 7,
   "metadata": {},
   "outputs": [],
   "source": [
    "#inception V3 utiliza un formato en el que la intensidad de los pixeles goes from -1 to 1, so we need to reshape the pixels:\n",
    "x /= 255 #between 0 and 1\n",
    "x-= .5 # between -.5 and .5\n",
    "x *= 2 # between -1 and 1\n",
    "#print(x)"
   ]
  },
  {
   "cell_type": "code",
   "execution_count": null,
   "metadata": {},
   "outputs": [],
   "source": [
    "# the required tensor has 4 different dimensions ( batch size, W, H, #Ch)\n",
    "x = x.reshape ([1, x.shape[0], x.shape[1], x.shape[2]])\n",
    "\n",
    "y = iv3.predict(x)\n",
    "decode_predictions(y)"
   ]
  },
  {
   "cell_type": "code",
   "execution_count": null,
   "metadata": {},
   "outputs": [],
   "source": [
    "# empezamos el ataque. Realizamos un proceso de optimizacion sobre los procesos de netrada.\n",
    "# necesitamos la capa de entrada de datos y la de salida:\n",
    "inp_layer = iv3.layers[0].input\n",
    "out_layer = iv3.layers[-1].output\n",
    "# la intencion es confundir a la red y q confunda la clase con otra erronea\n",
    "\n",
    "target_class = 951\n",
    "loss = out_layer [0, target_class]\n",
    "\n",
    "grad = K.gradients (loss, inp_layer)[0]# en que proporcion hay que variar ños gradientes para que el coste se vaya optimizando\n",
    "\n",
    "optimize_gradient = K.function([inp_player, K.learning_phase()], [grad, loss])\n",
    "\n",
    "adv = np.copy(x)\n",
    "\n",
    "pert = .01\n",
    "\n",
    "max_pert = x + pert\n",
    "min_pert = x - pert\n",
    "\n",
    "cost = 0.0\n",
    "\n",
    "while cost < .95:\n",
    "    gr, cost =optimize_gradient([adv,0])\n",
    "    adv += gr\n",
    "    \n",
    "    adv = np.clip (adv, mix_pert, max_pert)# to avoid extrange artifacts in the image\n",
    "    \n",
    "    print ('Target cost:', cost)\n",
    "\n",
    "    hacked = np.copy(adv)"
   ]
  },
  {
   "cell_type": "code",
   "execution_count": null,
   "metadata": {},
   "outputs": [],
   "source": [
    "adv /=2\n",
    "adv += .5\n",
    "adv *= 255"
   ]
  },
  {
   "cell_type": "code",
   "execution_count": null,
   "metadata": {},
   "outputs": [],
   "source": [
    "plt. imshow(adv[0]).astype(np.uint8))\n",
    "plt.show()"
   ]
  },
  {
   "cell_type": "code",
   "execution_count": null,
   "metadata": {},
   "outputs": [],
   "source": [
    "from PIL import Image\n",
    "im = Image.fromarray(adv[0].astype(np.uint8))\n",
    "im.save(\"./hacked.jpg\")"
   ]
  }
 ],
 "metadata": {
  "kernelspec": {
   "display_name": "Python 3",
   "language": "python",
   "name": "python3"
  },
  "language_info": {
   "codemirror_mode": {
    "name": "ipython",
    "version": 3
   },
   "file_extension": ".py",
   "mimetype": "text/x-python",
   "name": "python",
   "nbconvert_exporter": "python",
   "pygments_lexer": "ipython3",
   "version": "3.5.5"
  }
 },
 "nbformat": 4,
 "nbformat_minor": 2
}
